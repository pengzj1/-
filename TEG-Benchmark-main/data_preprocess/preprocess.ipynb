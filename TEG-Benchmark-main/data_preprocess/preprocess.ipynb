{
 "cells": [
  {
   "cell_type": "code",
   "execution_count": 7,
   "id": "2b881572b62f8ce1",
   "metadata": {
    "ExecuteTime": {
     "end_time": "2024-10-19T08:11:58.339331100Z",
     "start_time": "2024-10-19T08:11:51.232136400Z"
    },
    "collapsed": false
   },
   "outputs": [],
   "source": [
    "import json\n",
    "path = \"Apps_for_Android_5.json\"\n",
    "dict_edge = {} #example: 8842281e1d1347389f2ab93d60773d4d|23310161 : One of my favorite books.\n",
    "dict_num_to_id = {} # reorder the node's id\n",
    "edge_score = []\n",
    "count = 0\n",
    "review_text = \"Reviewer [reviewerName] left a review on [reviewTime], giving the product [rating] stars. In his/her review, he/she wrote: [reviewText]. His/Her summary was [summary].\"\n",
    "with open(path) as f:\n",
    "    for line in f:\n",
    "        d = json.loads(line)\n",
    "        edge = d[\"reviewerID\"] + \"|\" + d[\"asin\"]\n",
    "        try:\n",
    "            reviewtext = review_text.replace(\"[reviewerName]\", d[\"reviewerName\"])\n",
    "        except:\n",
    "            reviewtext = review_text.replace(\"[reviewerName]\", \"\")\n",
    "        if d[\"reviewTime\"] == \"\":\n",
    "            reviewtext = reviewtext.replace(\"[reviewTime]\", \"Unknown reviewtime\")\n",
    "        else:\n",
    "            reviewtext = reviewtext.replace(\"[reviewTime]\", d[\"reviewTime\"])\n",
    "        if d[\"overall\"] == \"\":\n",
    "            reviewtext = reviewtext.replace(\"[rating]\", \"Unknown\")\n",
    "        else:\n",
    "            reviewtext = reviewtext.replace(\"[rating]\", str(d[\"overall\"]))\n",
    "        reviewtext = reviewtext.replace(\"[reviewText]\", d[\"reviewText\"])\n",
    "        if d[\"summary\"] == \"\":\n",
    "            reviewtext = reviewtext.replace(\"[summary]\", \"Unknown\")\n",
    "        else:\n",
    "            reviewtext = reviewtext.replace(\"[summary]\", d[\"summary\"])\n",
    "        dict_edge[edge] = reviewtext\n",
    "        edge_score.append(d[\"overall\"])\n",
    "        if d[\"reviewerID\"] not in dict_num_to_id:\n",
    "            dict_num_to_id[d[\"reviewerID\"]] = count\n",
    "            count += 1\n",
    "        if d[\"asin\"] not in dict_num_to_id:\n",
    "            dict_num_to_id[d[\"asin\"]] = count\n",
    "            count += 1\n",
    "            "
   ]
  },
  {
   "cell_type": "code",
   "execution_count": 8,
   "id": "3cfd947d",
   "metadata": {},
   "outputs": [],
   "source": [
    "import json\n",
    "dict_id_to_text = {}\n",
    "dictid_to_label = {}\n",
    "node_texts = \"item\"\n",
    "\n",
    "with open(\"meta_Apps_for_Android.json\") as f:\n",
    "    for line in f:\n",
    "        d = json.loads(line)\n",
    "        break"
   ]
  },
  {
   "cell_type": "code",
   "execution_count": 10,
   "id": "acb9e595af870544",
   "metadata": {
    "ExecuteTime": {
     "end_time": "2024-10-19T08:15:01.303897900Z",
     "start_time": "2024-10-19T08:15:00.542531700Z"
    },
    "collapsed": false
   },
   "outputs": [],
   "source": [
    "import json\n",
    "dict_id_to_text = {}\n",
    "dictid_to_label = {}\n",
    "node_texts = \"item\"\n",
    "\n",
    "with open(\"meta_Apps_for_Android.json\") as f:\n",
    "    for line in f:\n",
    "        d = json.loads(line)\n",
    "        label_list = []\n",
    "        for x in d[\"categories\"]:\n",
    "            for label in x:\n",
    "                label_list.append(label)\n",
    "        dictid_to_label[d[\"asin\"]] = label_list\n",
    "        product_text = node_texts\n",
    "        '''\n",
    "        product_text = nodes_texts.replace(\"[title]\", d[\"title\"])\n",
    "        category_text = \", \".join(label_list[1:])\n",
    "        product_text = product_text.replace(\"[category]\", category_text)\n",
    "        if d[\"feature\"] == []:\n",
    "            product_text = product_text.replace(\"[feature]\",\"Unknown feature\")\n",
    "        else:\n",
    "            feature_text = \", \".join(d[\"feature\"])\n",
    "            product_text = product_text.replace(\"[feature]\",feature_text)\n",
    "        if d[\"description\"] == []:\n",
    "            product_text = product_text.replace(\"[description]\",\"Unknown description\")\n",
    "        else:\n",
    "            description_text = \", \".join(d[\"description\"])\n",
    "            product_text = product_text.replace(\"[description]\",description_text)\n",
    "        if d[\"fit\"] == \"\":\n",
    "            product_text = product_text.replace(\"[fit]\",\"Unknown fit\")\n",
    "        else:\n",
    "            product_text = product_text.replace(\"[fit]\",d[\"fit\"])\n",
    "        if d[\"price\"] == \"\":\n",
    "            product_text = product_text.replace(\"[price]\",\"Unknown price\")\n",
    "        else:\n",
    "            product_text = product_text.replace(\"[price]\",d[\"price\"])\n",
    "        if d[\"brand\"] == \"\":\n",
    "            product_text = product_text.replace(\"[brand]\",\"Unknown brand\")\n",
    "        else:\n",
    "            product_text = product_text.replace(\"[brand]\",d[\"brand\"])\n",
    "        if d[\"rank\"] == \"\":\n",
    "            product_text = product_text.replace(\"[rank]\",\"Unknown rank\")\n",
    "        else:\n",
    "            try:\n",
    "                product_text = product_text.replace(\"[rank]\",d[\"rank\"])\n",
    "            except:\n",
    "                product_text = product_text.replace(\"[rank]\",\"Unknown rank\")\n",
    "        if d[\"date\"] == \"\":\n",
    "            product_text = product_text.replace(\"[date]\",\"Unknown date\")\n",
    "        else:\n",
    "            product_text = product_text.replace(\"[date]\",d[\"date\"])\n",
    "        if d[\"imageURL\"] == []:\n",
    "            product_text = product_text.replace(\"[imageURL]\",\"Unknown imageURL\")\n",
    "        else:\n",
    "            imageURL_text = \", \".join(d[\"imageURL\"])\n",
    "            product_text = product_text.replace(\"[imageURL]\",imageURL_text)\n",
    "        if d[\"imageURLHighRes\"] == []:\n",
    "            product_text = product_text.replace(\"[imageURLHighRes]\",\"Unknown imageURLHighRes\")\n",
    "        else:\n",
    "            imageURLHighRes_text = \", \".join(d[\"imageURLHighRes\"])\n",
    "            product_text = product_text.replace(\"[imageURLHighRes]\",imageURLHighRes_text)\n",
    "        '''\n",
    "        dict_id_to_text[d[\"asin\"]] = product_text"
   ]
  },
  {
   "cell_type": "code",
   "execution_count": 11,
   "id": "5e69e274cb42bf36",
   "metadata": {
    "ExecuteTime": {
     "end_time": "2024-10-19T08:15:01.999784800Z",
     "start_time": "2024-10-19T08:15:01.989277300Z"
    },
    "collapsed": false
   },
   "outputs": [],
   "source": [
    "edge1 = [] \n",
    "edge2 = []  # edge1 edge2 are to generate edge_index\n",
    "text_nodes = [None] * len(dict_num_to_id)\n",
    "text_edges = []\n",
    "text_node_labels = [-1] * len(dict_num_to_id)"
   ]
  },
  {
   "cell_type": "code",
   "execution_count": 12,
   "id": "f2adedbc870feda",
   "metadata": {
    "ExecuteTime": {
     "end_time": "2024-10-19T08:15:04.385748Z",
     "start_time": "2024-10-19T08:15:02.732806400Z"
    },
    "collapsed": false
   },
   "outputs": [],
   "source": [
    "for edge, edge_text in dict_edge.items():\n",
    "    node1 = edge.split(\"|\")[0]\n",
    "    node2 = edge.split(\"|\")[1]\n",
    "    node1_id = int(dict_num_to_id[node1])\n",
    "    node2_id = int(dict_num_to_id[node2])\n",
    "    edge1.append(node1_id)\n",
    "    edge2.append(node2_id)\n",
    "    text_nodes[node1_id] = \"reviewer\"\n",
    "    try:\n",
    "        text_nodes[node2_id] = dict_id_to_text[node2]\n",
    "    except:\n",
    "        text_nodes[node2_id] = \"Unknown node texts\"\n",
    "    text_edges.append(edge_text)\n",
    "    try:\n",
    "        text_node_labels[node2_id] = dictid_to_label[node2]\n",
    "    except:\n",
    "        text_node_labels[node2_id] = -1"
   ]
  },
  {
   "cell_type": "code",
   "execution_count": 14,
   "id": "3305934f1a11caa7",
   "metadata": {
    "ExecuteTime": {
     "end_time": "2024-10-19T08:15:04.410284900Z",
     "start_time": "2024-10-19T08:15:04.384747Z"
    },
    "collapsed": false
   },
   "outputs": [],
   "source": [
    "from torch_geometric.data import Data\n",
    "import torch"
   ]
  },
  {
   "cell_type": "code",
   "execution_count": 15,
   "id": "5030fa8672f2b177",
   "metadata": {
    "ExecuteTime": {
     "end_time": "2024-10-19T08:15:04.678317100Z",
     "start_time": "2024-10-19T08:15:04.398293500Z"
    },
    "collapsed": false
   },
   "outputs": [],
   "source": [
    "edge_index = torch.tensor([edge1,edge2])"
   ]
  },
  {
   "cell_type": "code",
   "execution_count": 16,
   "id": "21085a8a04df7062",
   "metadata": {
    "ExecuteTime": {
     "end_time": "2024-10-19T08:15:04.696139900Z",
     "start_time": "2024-10-19T08:15:04.683323900Z"
    },
    "collapsed": false
   },
   "outputs": [],
   "source": [
    "new_data = Data(\n",
    "    edge_index=edge_index,\n",
    "    text_nodes=text_nodes,\n",
    "    text_edges=text_edges,\n",
    "    text_node_labels=text_node_labels,\n",
    "    edge_score=edge_score\n",
    ")"
   ]
  },
  {
   "cell_type": "code",
   "execution_count": 17,
   "id": "d39601d90a0171c5",
   "metadata": {
    "collapsed": false,
    "is_executing": true
   },
   "outputs": [
    {
     "name": "stdout",
     "output_type": "stream",
     "text": [
      "Data saved to ../processed/apps.pkl\n"
     ]
    }
   ],
   "source": [
    "import pickle\n",
    "output_file_path = '../processed/apps.pkl'\n",
    "with open(output_file_path, 'wb') as output_file:\n",
    "    pickle.dump(new_data, output_file)\n",
    "\n",
    "print(f\"Data saved to {output_file_path}\")"
   ]
  },
  {
   "cell_type": "code",
   "execution_count": null,
   "id": "60f52e9317cfad61",
   "metadata": {
    "collapsed": false,
    "is_executing": true
   },
   "outputs": [],
   "source": []
  },
  {
   "cell_type": "code",
   "execution_count": null,
   "id": "4aaa10c4d649044a",
   "metadata": {
    "collapsed": false,
    "is_executing": true
   },
   "outputs": [],
   "source": []
  }
 ],
 "metadata": {
  "kernelspec": {
   "display_name": ".venv",
   "language": "python",
   "name": "python3"
  },
  "language_info": {
   "codemirror_mode": {
    "name": "ipython",
    "version": 3
   },
   "file_extension": ".py",
   "mimetype": "text/x-python",
   "name": "python",
   "nbconvert_exporter": "python",
   "pygments_lexer": "ipython3",
   "version": "3.10.12"
  }
 },
 "nbformat": 4,
 "nbformat_minor": 5
}
